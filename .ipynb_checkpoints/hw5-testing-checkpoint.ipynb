{
 "cells": [
  {
   "cell_type": "code",
   "execution_count": 44,
   "id": "581d62c9",
   "metadata": {},
   "outputs": [],
   "source": [
    "from align import NeedlemanWunsch, read_fasta\n",
    "import numpy as np"
   ]
  },
  {
   "cell_type": "code",
   "execution_count": 45,
   "id": "30b2619c",
   "metadata": {},
   "outputs": [],
   "source": [
    "NW = NeedlemanWunsch(\"./substitution_matrices/BLOSUM62.mat\", gap_open = -10, gap_extend = -1)"
   ]
  },
  {
   "cell_type": "code",
   "execution_count": 46,
   "id": "d258bfaf",
   "metadata": {},
   "outputs": [
    {
     "data": {
      "text/plain": [
       "('MYQR', 'MQR')"
      ]
     },
     "execution_count": 46,
     "metadata": {},
     "output_type": "execute_result"
    }
   ],
   "source": [
    "seq1, _ = read_fasta(\"./data/test_seq1.fa\")\n",
    "seq2, _ = read_fasta(\"./data/test_seq2.fa\")\n",
    "seq1, seq2"
   ]
  },
  {
   "cell_type": "code",
   "execution_count": 47,
   "id": "5daf010f",
   "metadata": {},
   "outputs": [
    {
     "data": {
      "text/plain": [
       "3"
      ]
     },
     "execution_count": 47,
     "metadata": {},
     "output_type": "execute_result"
    }
   ],
   "source": [
    "len(seq1)\n",
    "len(seq2)"
   ]
  },
  {
   "cell_type": "code",
   "execution_count": 52,
   "id": "f3f68ddc",
   "metadata": {},
   "outputs": [],
   "source": [
    "gap_open_penalty = 10.0\n",
    "gap_extend_penalty = 1.0"
   ]
  },
  {
   "cell_type": "code",
   "execution_count": 53,
   "id": "869219f0",
   "metadata": {},
   "outputs": [
    {
     "data": {
      "text/plain": [
       "array([[-inf, -inf, -inf, -inf],\n",
       "       [-inf, -inf, -inf, -inf],\n",
       "       [-inf, -inf, -inf, -inf],\n",
       "       [-inf, -inf, -inf, -inf],\n",
       "       [-inf, -inf, -inf, -inf]])"
      ]
     },
     "execution_count": 53,
     "metadata": {},
     "output_type": "execute_result"
    }
   ],
   "source": [
    "align_m = np.ones((len(seq1)+1, len(seq2)+1)) * -np.inf\n",
    "align_m"
   ]
  },
  {
   "cell_type": "code",
   "execution_count": 54,
   "id": "7ec39ac6",
   "metadata": {},
   "outputs": [
    {
     "data": {
      "text/plain": [
       "array([[  0., -inf, -inf, -inf],\n",
       "       [-inf, -inf, -inf, -inf],\n",
       "       [-inf, -inf, -inf, -inf],\n",
       "       [-inf, -inf, -inf, -inf],\n",
       "       [-inf, -inf, -inf, -inf]])"
      ]
     },
     "execution_count": 54,
     "metadata": {},
     "output_type": "execute_result"
    }
   ],
   "source": [
    "align_m[0,0] = 0\n",
    "align_m"
   ]
  },
  {
   "cell_type": "code",
   "execution_count": 67,
   "id": "3d9e4000",
   "metadata": {},
   "outputs": [],
   "source": [
    "gapA = align_m = np.ones((len(seq1)+1, len(seq2)+1)) * -np.inf\n",
    "gapB = align_m = np.ones((len(seq1)+1, len(seq2)+1)) * -np.inf"
   ]
  },
  {
   "cell_type": "code",
   "execution_count": 61,
   "id": "234d4484",
   "metadata": {},
   "outputs": [
    {
     "data": {
      "text/plain": [
       "array([[-inf, -inf, -inf, -inf],\n",
       "       [-inf, -inf, -inf, -inf],\n",
       "       [-inf, -inf, -inf, -inf],\n",
       "       [-inf, -inf, -inf, -inf],\n",
       "       [-inf, -inf, -inf, -inf]])"
      ]
     },
     "execution_count": 61,
     "metadata": {},
     "output_type": "execute_result"
    }
   ],
   "source": [
    "gapA"
   ]
  },
  {
   "cell_type": "code",
   "execution_count": 68,
   "id": "9bf7a9ac",
   "metadata": {},
   "outputs": [
    {
     "data": {
      "text/plain": [
       "(array([[ 10., -inf, -inf, -inf],\n",
       "        [ 11., -inf, -inf, -inf],\n",
       "        [ 12., -inf, -inf, -inf],\n",
       "        [ 13., -inf, -inf, -inf],\n",
       "        [ 14., -inf, -inf, -inf]]),\n",
       " array([[ 10.,  11.,  12.,  13.],\n",
       "        [-inf, -inf, -inf, -inf],\n",
       "        [-inf, -inf, -inf, -inf],\n",
       "        [-inf, -inf, -inf, -inf],\n",
       "        [-inf, -inf, -inf, -inf]]))"
      ]
     },
     "execution_count": 68,
     "metadata": {},
     "output_type": "execute_result"
    }
   ],
   "source": [
    "for i in range(0, len(seq1)+1):\n",
    "    gapA[i][0] = gap_open_penalty  + (gap_extend_penalty*i)\n",
    "for j in range(0, len(seq2)+1):\n",
    "    gapB[0][j] = gap_open_penalty  + (gap_extend_penalty*j)\n",
    "gapA, gapB"
   ]
  },
  {
   "cell_type": "code",
   "execution_count": null,
   "id": "988c7ebe",
   "metadata": {},
   "outputs": [],
   "source": []
  }
 ],
 "metadata": {
  "kernelspec": {
   "display_name": "Python 3 (ipykernel)",
   "language": "python",
   "name": "python3"
  },
  "language_info": {
   "codemirror_mode": {
    "name": "ipython",
    "version": 3
   },
   "file_extension": ".py",
   "mimetype": "text/x-python",
   "name": "python",
   "nbconvert_exporter": "python",
   "pygments_lexer": "ipython3",
   "version": "3.9.12"
  }
 },
 "nbformat": 4,
 "nbformat_minor": 5
}
