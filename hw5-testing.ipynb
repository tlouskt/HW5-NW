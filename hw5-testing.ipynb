{
 "cells": [
  {
   "cell_type": "code",
   "execution_count": 32,
   "id": "7e067b54",
   "metadata": {},
   "outputs": [
    {
     "name": "stdout",
     "output_type": "stream",
     "text": [
      "The autoreload extension is already loaded. To reload it, use:\n",
      "  %reload_ext autoreload\n"
     ]
    }
   ],
   "source": [
    "%load_ext autoreload\n",
    "%autoreload 2"
   ]
  },
  {
   "cell_type": "code",
   "execution_count": 33,
   "id": "186e70b1",
   "metadata": {},
   "outputs": [],
   "source": [
    "%reload_ext autoreload"
   ]
  },
  {
   "cell_type": "code",
   "execution_count": 1,
   "id": "e2e4415d",
   "metadata": {},
   "outputs": [],
   "source": [
    "from align import NeedlemanWunsch, read_fasta\n",
    "import numpy as np"
   ]
  },
  {
   "cell_type": "code",
   "execution_count": 2,
   "id": "1119ad63",
   "metadata": {},
   "outputs": [],
   "source": [
    "nw = NeedlemanWunsch(\"./substitution_matrices/BLOSUM62.mat\", gap_open = -10, gap_extend = -1)"
   ]
  },
  {
   "cell_type": "code",
   "execution_count": 3,
   "id": "18aa69d9",
   "metadata": {},
   "outputs": [
    {
     "data": {
      "text/plain": [
       "('MYQR', 'MQR')"
      ]
     },
     "execution_count": 3,
     "metadata": {},
     "output_type": "execute_result"
    }
   ],
   "source": [
    "seq1, _ = read_fasta(\"./data/test_seq1.fa\")\n",
    "seq2, _ = read_fasta(\"./data/test_seq2.fa\")\n",
    "seq1, seq2"
   ]
  },
  {
   "cell_type": "code",
   "execution_count": 4,
   "id": "cbd0b819",
   "metadata": {},
   "outputs": [
    {
     "name": "stdout",
     "output_type": "stream",
     "text": [
      "4\n",
      "3\n"
     ]
    }
   ],
   "source": [
    "print(len(seq1))\n",
    "print(len(seq2))"
   ]
  },
  {
   "cell_type": "code",
   "execution_count": 5,
   "id": "f3d01efb",
   "metadata": {},
   "outputs": [
    {
     "name": "stdout",
     "output_type": "stream",
     "text": [
      "4.0\n",
      "MYQR\n",
      "M-QR\n"
     ]
    }
   ],
   "source": [
    "score, seq1_align, seq2_align = nw.align(seq1, seq2)\n",
    "print(score)\n",
    "print(seq1_align)\n",
    "print(seq2_align)"
   ]
  },
  {
   "cell_type": "code",
   "execution_count": 18,
   "id": "db4b9ab7",
   "metadata": {},
   "outputs": [
    {
     "data": {
      "text/plain": [
       "(array([[  0., -inf, -inf, -inf],\n",
       "        [-inf,   5., -11., -13.],\n",
       "        [-inf, -12.,   4.,  -8.],\n",
       "        [-inf, -12.,  -1.,   5.],\n",
       "        [-inf, -14.,  -6.,   4.]]),\n",
       " array([[-10., -inf, -inf, -inf],\n",
       "        [-11., -12.,  -6.,  -7.],\n",
       "        [-12., -13., -14.,  -7.],\n",
       "        [-13., -14., -15., -12.],\n",
       "        [-14., -15., -16., -17.]]),\n",
       " array([[-10., -11., -12., -13.],\n",
       "        [-inf, -11., -11., -11.],\n",
       "        [-inf,  -6.,  -6.,  -7.],\n",
       "        [-inf,  -7.,  -7.,  -7.],\n",
       "        [-inf,  -8.,  -8.,  -6.]]))"
      ]
     },
     "execution_count": 18,
     "metadata": {},
     "output_type": "execute_result"
    }
   ],
   "source": [
    "nw._align_matrix, nw._gapA_matrix, nw._gapB_matrix"
   ]
  },
  {
   "cell_type": "code",
   "execution_count": 6,
   "id": "0e77daa2",
   "metadata": {},
   "outputs": [
    {
     "data": {
      "text/plain": [
       "('MAVHQLIRRP', 'MQLIRHP')"
      ]
     },
     "execution_count": 6,
     "metadata": {},
     "output_type": "execute_result"
    }
   ],
   "source": [
    "seq3, _ = read_fasta(\"./data/test_seq3.fa\")\n",
    "seq4, _ = read_fasta(\"./data/test_seq4.fa\")\n",
    "seq3, seq4"
   ]
  },
  {
   "cell_type": "code",
   "execution_count": 7,
   "id": "3934bef8",
   "metadata": {},
   "outputs": [
    {
     "name": "stdout",
     "output_type": "stream",
     "text": [
      "10\n",
      "7\n"
     ]
    }
   ],
   "source": [
    "print(len(seq3))\n",
    "print(len(seq4))"
   ]
  },
  {
   "cell_type": "code",
   "execution_count": 8,
   "id": "d86a2cd8",
   "metadata": {},
   "outputs": [
    {
     "name": "stdout",
     "output_type": "stream",
     "text": [
      "17.0\n",
      "MAVHQLIRRP\n",
      "M---QLIRHP\n"
     ]
    }
   ],
   "source": [
    "score, seq3_align, seq4_align = nw.align(seq3, seq4)\n",
    "print(score)\n",
    "print(seq3_align)\n",
    "print(seq4_align)"
   ]
  },
  {
   "cell_type": "code",
   "execution_count": 38,
   "id": "0b640282",
   "metadata": {},
   "outputs": [],
   "source": [
    "align = align_m = np.ones((len(seq3)+1, len(seq4)+1)) * -np.inf\n",
    "gapA = np.ones((len(seq3)+1, len(seq4)+1)) * -np.inf\n",
    "gapB = np.ones((len(seq3)+1, len(seq4)+1)) * -np.inf\n",
    "open_pen = -10\n",
    "extend_pen=-1"
   ]
  },
  {
   "cell_type": "code",
   "execution_count": 39,
   "id": "ec12485e",
   "metadata": {
    "scrolled": true
   },
   "outputs": [
    {
     "data": {
      "text/plain": [
       "(array([[-inf, -inf, -inf, -inf, -inf, -inf, -inf, -inf],\n",
       "        [-inf, -inf, -inf, -inf, -inf, -inf, -inf, -inf],\n",
       "        [-inf, -inf, -inf, -inf, -inf, -inf, -inf, -inf],\n",
       "        [-inf, -inf, -inf, -inf, -inf, -inf, -inf, -inf],\n",
       "        [-inf, -inf, -inf, -inf, -inf, -inf, -inf, -inf],\n",
       "        [-inf, -inf, -inf, -inf, -inf, -inf, -inf, -inf],\n",
       "        [-inf, -inf, -inf, -inf, -inf, -inf, -inf, -inf],\n",
       "        [-inf, -inf, -inf, -inf, -inf, -inf, -inf, -inf],\n",
       "        [-inf, -inf, -inf, -inf, -inf, -inf, -inf, -inf],\n",
       "        [-inf, -inf, -inf, -inf, -inf, -inf, -inf, -inf],\n",
       "        [-inf, -inf, -inf, -inf, -inf, -inf, -inf, -inf]]),\n",
       " array([[-inf, -inf, -inf, -inf, -inf, -inf, -inf, -inf],\n",
       "        [-inf, -inf, -inf, -inf, -inf, -inf, -inf, -inf],\n",
       "        [-inf, -inf, -inf, -inf, -inf, -inf, -inf, -inf],\n",
       "        [-inf, -inf, -inf, -inf, -inf, -inf, -inf, -inf],\n",
       "        [-inf, -inf, -inf, -inf, -inf, -inf, -inf, -inf],\n",
       "        [-inf, -inf, -inf, -inf, -inf, -inf, -inf, -inf],\n",
       "        [-inf, -inf, -inf, -inf, -inf, -inf, -inf, -inf],\n",
       "        [-inf, -inf, -inf, -inf, -inf, -inf, -inf, -inf],\n",
       "        [-inf, -inf, -inf, -inf, -inf, -inf, -inf, -inf],\n",
       "        [-inf, -inf, -inf, -inf, -inf, -inf, -inf, -inf],\n",
       "        [-inf, -inf, -inf, -inf, -inf, -inf, -inf, -inf]]),\n",
       " array([[-inf, -inf, -inf, -inf, -inf, -inf, -inf, -inf],\n",
       "        [-inf, -inf, -inf, -inf, -inf, -inf, -inf, -inf],\n",
       "        [-inf, -inf, -inf, -inf, -inf, -inf, -inf, -inf],\n",
       "        [-inf, -inf, -inf, -inf, -inf, -inf, -inf, -inf],\n",
       "        [-inf, -inf, -inf, -inf, -inf, -inf, -inf, -inf],\n",
       "        [-inf, -inf, -inf, -inf, -inf, -inf, -inf, -inf],\n",
       "        [-inf, -inf, -inf, -inf, -inf, -inf, -inf, -inf],\n",
       "        [-inf, -inf, -inf, -inf, -inf, -inf, -inf, -inf],\n",
       "        [-inf, -inf, -inf, -inf, -inf, -inf, -inf, -inf],\n",
       "        [-inf, -inf, -inf, -inf, -inf, -inf, -inf, -inf],\n",
       "        [-inf, -inf, -inf, -inf, -inf, -inf, -inf, -inf]]))"
      ]
     },
     "execution_count": 39,
     "metadata": {},
     "output_type": "execute_result"
    }
   ],
   "source": [
    "align, gapA, gapB"
   ]
  },
  {
   "cell_type": "code",
   "execution_count": 40,
   "id": "28458000",
   "metadata": {},
   "outputs": [
    {
     "data": {
      "text/plain": [
       "array([[  0., -inf, -inf, -inf, -inf, -inf, -inf, -inf],\n",
       "       [-inf, -inf, -inf, -inf, -inf, -inf, -inf, -inf],\n",
       "       [-inf, -inf, -inf, -inf, -inf, -inf, -inf, -inf],\n",
       "       [-inf, -inf, -inf, -inf, -inf, -inf, -inf, -inf],\n",
       "       [-inf, -inf, -inf, -inf, -inf, -inf, -inf, -inf],\n",
       "       [-inf, -inf, -inf, -inf, -inf, -inf, -inf, -inf],\n",
       "       [-inf, -inf, -inf, -inf, -inf, -inf, -inf, -inf],\n",
       "       [-inf, -inf, -inf, -inf, -inf, -inf, -inf, -inf],\n",
       "       [-inf, -inf, -inf, -inf, -inf, -inf, -inf, -inf],\n",
       "       [-inf, -inf, -inf, -inf, -inf, -inf, -inf, -inf],\n",
       "       [-inf, -inf, -inf, -inf, -inf, -inf, -inf, -inf]])"
      ]
     },
     "execution_count": 40,
     "metadata": {},
     "output_type": "execute_result"
    }
   ],
   "source": [
    "align[0,0]  = 0\n",
    "align"
   ]
  },
  {
   "cell_type": "code",
   "execution_count": 41,
   "id": "ea548bb4",
   "metadata": {
    "scrolled": true
   },
   "outputs": [
    {
     "data": {
      "text/plain": [
       "(array([[-10., -inf, -inf, -inf, -inf, -inf, -inf, -inf],\n",
       "        [-11., -inf, -inf, -inf, -inf, -inf, -inf, -inf],\n",
       "        [-12., -inf, -inf, -inf, -inf, -inf, -inf, -inf],\n",
       "        [-13., -inf, -inf, -inf, -inf, -inf, -inf, -inf],\n",
       "        [-14., -inf, -inf, -inf, -inf, -inf, -inf, -inf],\n",
       "        [-15., -inf, -inf, -inf, -inf, -inf, -inf, -inf],\n",
       "        [-16., -inf, -inf, -inf, -inf, -inf, -inf, -inf],\n",
       "        [-17., -inf, -inf, -inf, -inf, -inf, -inf, -inf],\n",
       "        [-18., -inf, -inf, -inf, -inf, -inf, -inf, -inf],\n",
       "        [-19., -inf, -inf, -inf, -inf, -inf, -inf, -inf],\n",
       "        [-20., -inf, -inf, -inf, -inf, -inf, -inf, -inf]]),\n",
       " array([[-10., -11., -12., -13., -14., -15., -16., -17.],\n",
       "        [-inf, -inf, -inf, -inf, -inf, -inf, -inf, -inf],\n",
       "        [-inf, -inf, -inf, -inf, -inf, -inf, -inf, -inf],\n",
       "        [-inf, -inf, -inf, -inf, -inf, -inf, -inf, -inf],\n",
       "        [-inf, -inf, -inf, -inf, -inf, -inf, -inf, -inf],\n",
       "        [-inf, -inf, -inf, -inf, -inf, -inf, -inf, -inf],\n",
       "        [-inf, -inf, -inf, -inf, -inf, -inf, -inf, -inf],\n",
       "        [-inf, -inf, -inf, -inf, -inf, -inf, -inf, -inf],\n",
       "        [-inf, -inf, -inf, -inf, -inf, -inf, -inf, -inf],\n",
       "        [-inf, -inf, -inf, -inf, -inf, -inf, -inf, -inf],\n",
       "        [-inf, -inf, -inf, -inf, -inf, -inf, -inf, -inf]]))"
      ]
     },
     "execution_count": 41,
     "metadata": {},
     "output_type": "execute_result"
    }
   ],
   "source": [
    "for i in range(0, len(seq3)+1): #rows\n",
    "    gapA[i][0] = open_pen  + (extend_pen*i)\n",
    "for j in range(0, len(seq4)+1): #columns\n",
    "    gapB[0][j] = open_pen  + (extend_pen*j)\n",
    "gapA, gapB"
   ]
  },
  {
   "cell_type": "code",
   "execution_count": 99,
   "id": "6d979270",
   "metadata": {},
   "outputs": [
    {
     "data": {
      "text/plain": [
       "5"
      ]
     },
     "execution_count": 99,
     "metadata": {},
     "output_type": "execute_result"
    }
   ],
   "source": [
    "for i in range(1, len(seq3)+1):\n",
    "    for j in range(1, len(seq4)+1):\n",
    "        match = nw.sub_dict[(seq3[i-1], seq4[j-1])]\n",
    "        \n",
    "        align_vals = [align[i - 1,j - 1],\n",
    "                      gapA[i - 1, j - 1],\n",
    "                      gapB[i - 1, j - 1]]\n",
    "        \n",
    "        gapA_vals = [open_pen + extend_pen + align[i-1,j],\n",
    "                      extend_pen + gapA[i - 1, j],\n",
    "                      extend_pend + open_pen + gapB[i - 1, j]]\n",
    "        \n",
    "        gapB_vals = [open_pen + extend_pen + align[i,j-1],\n",
    "                      extend_pen + gapA[i, j-1],\n",
    "                      extend_pend + open_pen + gapB[i, j-1]]\n",
    "        \n",
    "        align[i,j] = max(align_vals)\n",
    "        gapA[i,j] = max(gapA_vals)\n",
    "        gapB[i,j] = max(gapB_vals)\n",
    "        \n",
    "        \n",
    "        "
   ]
  },
  {
   "cell_type": "code",
   "execution_count": 44,
   "id": "f5f23da8",
   "metadata": {},
   "outputs": [
    {
     "name": "stdout",
     "output_type": "stream",
     "text": [
      "P\n",
      "P\n"
     ]
    },
    {
     "data": {
      "text/plain": [
       "7.0"
      ]
     },
     "execution_count": 44,
     "metadata": {},
     "output_type": "execute_result"
    }
   ],
   "source": [
    "print(seq3[i-1])\n",
    "print(seq4[j-1])\n",
    "match = nw.sub_dict[(seq3[i-1], seq4[j-1])]\n",
    "match"
   ]
  },
  {
   "cell_type": "code",
   "execution_count": 18,
   "id": "0c3d93be",
   "metadata": {},
   "outputs": [],
   "source": [
    "gg_score = 100\n",
    "mm_score = 67\n",
    "br_score = 50\n",
    "tt_score = 20\n",
    "\n",
    "species = ['Gallus gallus', 'Mus musculus', 'Balaeniceps_rex', 'tursiops truncatus']\n",
    "scores = [gg_score, mm_score, br_score, tt_score]"
   ]
  },
  {
   "cell_type": "code",
   "execution_count": 19,
   "id": "ae97808a",
   "metadata": {},
   "outputs": [
    {
     "data": {
      "text/plain": [
       "[100, 67, 50, 20]"
      ]
     },
     "execution_count": 19,
     "metadata": {},
     "output_type": "execute_result"
    }
   ],
   "source": [
    "scores = sorted(scores, reverse=True)\n",
    "scores"
   ]
  },
  {
   "cell_type": "code",
   "execution_count": 23,
   "id": "c75540e8",
   "metadata": {},
   "outputs": [],
   "source": [
    "dict = {'Gallus gallus': gg_score, \n",
    "        'Mus musculus': mm_score, \n",
    "        'Balaeniceps_rex' : br_score, \n",
    "        'tursiops truncatus': tt_score}"
   ]
  },
  {
   "cell_type": "code",
   "execution_count": 24,
   "id": "22347db6",
   "metadata": {},
   "outputs": [
    {
     "data": {
      "text/plain": [
       "{'Gallus gallus': 100,\n",
       " 'Mus musculus': 67,\n",
       " 'Balaeniceps_rex': 50,\n",
       " 'tursiops truncatus': 20}"
      ]
     },
     "execution_count": 24,
     "metadata": {},
     "output_type": "execute_result"
    }
   ],
   "source": [
    "dict"
   ]
  },
  {
   "cell_type": "code",
   "execution_count": 49,
   "id": "f53569ff",
   "metadata": {},
   "outputs": [
    {
     "data": {
      "text/plain": [
       "[('Gallus gallus', 100),\n",
       " ('Mus musculus', 67),\n",
       " ('Balaeniceps_rex', 50),\n",
       " ('tursiops truncatus', 20)]"
      ]
     },
     "execution_count": 49,
     "metadata": {},
     "output_type": "execute_result"
    }
   ],
   "source": [
    "sort_dict = sorted(dict.items(), key=lambda x: -x[1])\n",
    "sort_dict"
   ]
  },
  {
   "cell_type": "code",
   "execution_count": 58,
   "id": "7c40bd17",
   "metadata": {},
   "outputs": [
    {
     "name": "stdout",
     "output_type": "stream",
     "text": [
      "alignment scores of Gallus gallus BRD2 and Homo sapiens BRD2 : 100\n",
      "alignment scores of Mus musculus BRD2 and Homo sapiens BRD2 : 67\n",
      "alignment scores of Balaeniceps_rex BRD2 and Homo sapiens BRD2 : 50\n",
      "alignment scores of tursiops truncatus BRD2 and Homo sapiens BRD2 : 20\n"
     ]
    }
   ],
   "source": [
    "for species, score in sort_dict:\n",
    "    #print(species)\n",
    "    #print(score)\n",
    "    print(f\"alignment scores of {species} BRD2 and Homo sapiens BRD2 : {score}\")"
   ]
  },
  {
   "cell_type": "code",
   "execution_count": 54,
   "id": "f695baf1",
   "metadata": {},
   "outputs": [
    {
     "data": {
      "text/plain": [
       "'Gallus gallus'"
      ]
     },
     "execution_count": 54,
     "metadata": {},
     "output_type": "execute_result"
    }
   ],
   "source": [
    "sort_dict[0][0]"
   ]
  },
  {
   "cell_type": "code",
   "execution_count": 59,
   "id": "14a54dc2",
   "metadata": {},
   "outputs": [
    {
     "name": "stdout",
     "output_type": "stream",
     "text": [
      "Species in order of most to least similar:\n",
      "Gallus gallus\n",
      "Mus musculus\n",
      "Balaeniceps_rex\n",
      "tursiops truncatus\n"
     ]
    }
   ],
   "source": [
    "print('Species in order of most to least similar:')\n",
    "for i in sort_dict:\n",
    "    print(i[0])"
   ]
  },
  {
   "cell_type": "code",
   "execution_count": null,
   "id": "e1f0fa24",
   "metadata": {},
   "outputs": [],
   "source": []
  }
 ],
 "metadata": {
  "kernelspec": {
   "display_name": "Python 3 (ipykernel)",
   "language": "python",
   "name": "python3"
  },
  "language_info": {
   "codemirror_mode": {
    "name": "ipython",
    "version": 3
   },
   "file_extension": ".py",
   "mimetype": "text/x-python",
   "name": "python",
   "nbconvert_exporter": "python",
   "pygments_lexer": "ipython3",
   "version": "3.9.12"
  }
 },
 "nbformat": 4,
 "nbformat_minor": 5
}
