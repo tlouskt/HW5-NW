{
 "cells": [
  {
   "cell_type": "code",
   "execution_count": 44,
   "id": "d70be438",
   "metadata": {},
   "outputs": [],
   "source": [
    "from align import NeedlemanWunsch, read_fasta\n",
    "import numpy as np"
   ]
  },
  {
   "cell_type": "code",
   "execution_count": 82,
   "id": "ebcc088b",
   "metadata": {},
   "outputs": [],
   "source": [
    "NW = NeedlemanWunsch(\"./substitution_matrices/BLOSUM62.mat\", gap_open = -1, gap_extend = -1)"
   ]
  },
  {
   "cell_type": "code",
   "execution_count": 46,
   "id": "59094b4b",
   "metadata": {},
   "outputs": [
    {
     "data": {
      "text/plain": [
       "('MYQR', 'MQR')"
      ]
     },
     "execution_count": 46,
     "metadata": {},
     "output_type": "execute_result"
    }
   ],
   "source": [
    "seq1, _ = read_fasta(\"./data/test_seq1.fa\")\n",
    "seq2, _ = read_fasta(\"./data/test_seq2.fa\")\n",
    "seq1, seq2"
   ]
  },
  {
   "cell_type": "code",
   "execution_count": 47,
   "id": "3d45530b",
   "metadata": {},
   "outputs": [
    {
     "data": {
      "text/plain": [
       "3"
      ]
     },
     "execution_count": 47,
     "metadata": {},
     "output_type": "execute_result"
    }
   ],
   "source": [
    "len(seq1)\n",
    "len(seq2)"
   ]
  },
  {
   "cell_type": "code",
   "execution_count": 87,
   "id": "27da2c35",
   "metadata": {},
   "outputs": [],
   "source": [
    "gap_open_penalty = -1.0\n",
    "gap_extend_penalty = -1.0"
   ]
  },
  {
   "cell_type": "code",
   "execution_count": 88,
   "id": "b1707646",
   "metadata": {},
   "outputs": [
    {
     "data": {
      "text/plain": [
       "array([[-inf, -inf, -inf, -inf],\n",
       "       [-inf, -inf, -inf, -inf],\n",
       "       [-inf, -inf, -inf, -inf],\n",
       "       [-inf, -inf, -inf, -inf],\n",
       "       [-inf, -inf, -inf, -inf]])"
      ]
     },
     "execution_count": 88,
     "metadata": {},
     "output_type": "execute_result"
    }
   ],
   "source": [
    "align_m = np.ones((len(seq1)+1, len(seq2)+1)) * -np.inf\n",
    "align_m"
   ]
  },
  {
   "cell_type": "code",
   "execution_count": 89,
   "id": "f1c7f58e",
   "metadata": {},
   "outputs": [
    {
     "data": {
      "text/plain": [
       "array([[  0., -inf, -inf, -inf],\n",
       "       [-inf, -inf, -inf, -inf],\n",
       "       [-inf, -inf, -inf, -inf],\n",
       "       [-inf, -inf, -inf, -inf],\n",
       "       [-inf, -inf, -inf, -inf]])"
      ]
     },
     "execution_count": 89,
     "metadata": {},
     "output_type": "execute_result"
    }
   ],
   "source": [
    "align_m[0,0] = 0\n",
    "align_m"
   ]
  },
  {
   "cell_type": "code",
   "execution_count": 90,
   "id": "3be0b593",
   "metadata": {},
   "outputs": [],
   "source": [
    "gapA = align_m = np.ones((len(seq1)+1, len(seq2)+1)) * -np.inf\n",
    "gapB = align_m = np.ones((len(seq1)+1, len(seq2)+1)) * -np.inf"
   ]
  },
  {
   "cell_type": "code",
   "execution_count": 91,
   "id": "5c0a87da",
   "metadata": {},
   "outputs": [
    {
     "data": {
      "text/plain": [
       "(array([[-inf, -inf, -inf, -inf],\n",
       "        [-inf, -inf, -inf, -inf],\n",
       "        [-inf, -inf, -inf, -inf],\n",
       "        [-inf, -inf, -inf, -inf],\n",
       "        [-inf, -inf, -inf, -inf]]),\n",
       " array([[-inf, -inf, -inf, -inf],\n",
       "        [-inf, -inf, -inf, -inf],\n",
       "        [-inf, -inf, -inf, -inf],\n",
       "        [-inf, -inf, -inf, -inf],\n",
       "        [-inf, -inf, -inf, -inf]]))"
      ]
     },
     "execution_count": 91,
     "metadata": {},
     "output_type": "execute_result"
    }
   ],
   "source": [
    "gapA, gapB"
   ]
  },
  {
   "cell_type": "code",
   "execution_count": 92,
   "id": "664f7fe4",
   "metadata": {},
   "outputs": [
    {
     "data": {
      "text/plain": [
       "(array([[ -1., -inf, -inf, -inf],\n",
       "        [ -2., -inf, -inf, -inf],\n",
       "        [ -3., -inf, -inf, -inf],\n",
       "        [ -4., -inf, -inf, -inf],\n",
       "        [ -5., -inf, -inf, -inf]]),\n",
       " array([[ -1.,  -2.,  -3.,  -4.],\n",
       "        [-inf, -inf, -inf, -inf],\n",
       "        [-inf, -inf, -inf, -inf],\n",
       "        [-inf, -inf, -inf, -inf],\n",
       "        [-inf, -inf, -inf, -inf]]))"
      ]
     },
     "execution_count": 92,
     "metadata": {},
     "output_type": "execute_result"
    }
   ],
   "source": [
    "for i in range(0, len(seq1)+1):\n",
    "    gapA[i][0] = gap_open_penalty  + (gap_extend_penalty*i)\n",
    "for j in range(0, len(seq2)+1):\n",
    "    gapB[0][j] = gap_open_penalty  + (gap_extend_penalty*j)\n",
    "gapA, gapB"
   ]
  },
  {
   "cell_type": "code",
   "execution_count": 93,
   "id": "1c632ae7",
   "metadata": {},
   "outputs": [
    {
     "data": {
      "text/plain": [
       "5"
      ]
     },
     "execution_count": 93,
     "metadata": {},
     "output_type": "execute_result"
    }
   ],
   "source": [
    "x = [3,4,5]\n",
    "max(x)"
   ]
  },
  {
   "cell_type": "code",
   "execution_count": null,
   "id": "7beb7ee8",
   "metadata": {},
   "outputs": [],
   "source": []
  }
 ],
 "metadata": {
  "kernelspec": {
   "display_name": "Python 3 (ipykernel)",
   "language": "python",
   "name": "python3"
  },
  "language_info": {
   "codemirror_mode": {
    "name": "ipython",
    "version": 3
   },
   "file_extension": ".py",
   "mimetype": "text/x-python",
   "name": "python",
   "nbconvert_exporter": "python",
   "pygments_lexer": "ipython3",
   "version": "3.9.12"
  }
 },
 "nbformat": 4,
 "nbformat_minor": 5
}
