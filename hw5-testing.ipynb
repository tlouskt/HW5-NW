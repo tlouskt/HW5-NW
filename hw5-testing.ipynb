{
 "cells": [
  {
   "cell_type": "code",
   "execution_count": 32,
   "id": "7e067b54",
   "metadata": {},
   "outputs": [
    {
     "name": "stdout",
     "output_type": "stream",
     "text": [
      "The autoreload extension is already loaded. To reload it, use:\n",
      "  %reload_ext autoreload\n"
     ]
    }
   ],
   "source": [
    "%load_ext autoreload\n",
    "%autoreload 2"
   ]
  },
  {
   "cell_type": "code",
   "execution_count": 33,
   "id": "186e70b1",
   "metadata": {},
   "outputs": [],
   "source": [
    "%reload_ext autoreload"
   ]
  },
  {
   "cell_type": "code",
   "execution_count": 1,
   "id": "e2e4415d",
   "metadata": {},
   "outputs": [],
   "source": [
    "from align import NeedlemanWunsch, read_fasta\n",
    "import numpy as np"
   ]
  },
  {
   "cell_type": "code",
   "execution_count": 2,
   "id": "1119ad63",
   "metadata": {},
   "outputs": [],
   "source": [
    "nw = NeedlemanWunsch(\"./substitution_matrices/BLOSUM62.mat\", gap_open = -10, gap_extend = -1)"
   ]
  },
  {
   "cell_type": "code",
   "execution_count": 3,
   "id": "18aa69d9",
   "metadata": {},
   "outputs": [
    {
     "data": {
      "text/plain": [
       "('MYQR', 'MQR')"
      ]
     },
     "execution_count": 3,
     "metadata": {},
     "output_type": "execute_result"
    }
   ],
   "source": [
    "seq1, _ = read_fasta(\"./data/test_seq1.fa\")\n",
    "seq2, _ = read_fasta(\"./data/test_seq2.fa\")\n",
    "seq1, seq2"
   ]
  },
  {
   "cell_type": "code",
   "execution_count": 4,
   "id": "cbd0b819",
   "metadata": {},
   "outputs": [
    {
     "name": "stdout",
     "output_type": "stream",
     "text": [
      "4\n",
      "3\n"
     ]
    }
   ],
   "source": [
    "print(len(seq1))\n",
    "print(len(seq2))"
   ]
  },
  {
   "cell_type": "code",
   "execution_count": null,
   "id": "f3d01efb",
   "metadata": {},
   "outputs": [],
   "source": [
    "score, seq1_align, seq2_align = nw.align(seq1, seq2)\n",
    "print(score)\n",
    "print(seq1_align)\n",
    "print(seq2_align)"
   ]
  },
  {
   "cell_type": "code",
   "execution_count": 29,
   "id": "0e77daa2",
   "metadata": {},
   "outputs": [
    {
     "data": {
      "text/plain": [
       "('MAVHQLIRRP', 'MQLIRHP')"
      ]
     },
     "execution_count": 29,
     "metadata": {},
     "output_type": "execute_result"
    }
   ],
   "source": [
    "seq3, _ = read_fasta(\"./data/test_seq3.fa\")\n",
    "seq4, _ = read_fasta(\"./data/test_seq4.fa\")\n",
    "seq3, seq4"
   ]
  },
  {
   "cell_type": "code",
   "execution_count": 31,
   "id": "3934bef8",
   "metadata": {},
   "outputs": [
    {
     "name": "stdout",
     "output_type": "stream",
     "text": [
      "10\n",
      "7\n"
     ]
    }
   ],
   "source": [
    "print(len(seq3))\n",
    "print(len(seq4))"
   ]
  },
  {
   "cell_type": "code",
   "execution_count": 9,
   "id": "d86a2cd8",
   "metadata": {},
   "outputs": [
    {
     "name": "stdout",
     "output_type": "stream",
     "text": [
      "17.0\n",
      "-HQLIRRP\n",
      "M-QLIRHP\n"
     ]
    }
   ],
   "source": [
    "score, seq3_align, seq4_align = nw.align(seq3, seq4)\n",
    "print(score)\n",
    "print(seq3_align)\n",
    "print(seq4_align)"
   ]
  },
  {
   "cell_type": "code",
   "execution_count": 38,
   "id": "0b640282",
   "metadata": {},
   "outputs": [],
   "source": [
    "align = align_m = np.ones((len(seq3)+1, len(seq4)+1)) * -np.inf\n",
    "gapA = np.ones((len(seq3)+1, len(seq4)+1)) * -np.inf\n",
    "gapB = np.ones((len(seq3)+1, len(seq4)+1)) * -np.inf\n",
    "open_pen = -10\n",
    "extend_pen=-1"
   ]
  },
  {
   "cell_type": "code",
   "execution_count": 39,
   "id": "ec12485e",
   "metadata": {
    "scrolled": true
   },
   "outputs": [
    {
     "data": {
      "text/plain": [
       "(array([[-inf, -inf, -inf, -inf, -inf, -inf, -inf, -inf],\n",
       "        [-inf, -inf, -inf, -inf, -inf, -inf, -inf, -inf],\n",
       "        [-inf, -inf, -inf, -inf, -inf, -inf, -inf, -inf],\n",
       "        [-inf, -inf, -inf, -inf, -inf, -inf, -inf, -inf],\n",
       "        [-inf, -inf, -inf, -inf, -inf, -inf, -inf, -inf],\n",
       "        [-inf, -inf, -inf, -inf, -inf, -inf, -inf, -inf],\n",
       "        [-inf, -inf, -inf, -inf, -inf, -inf, -inf, -inf],\n",
       "        [-inf, -inf, -inf, -inf, -inf, -inf, -inf, -inf],\n",
       "        [-inf, -inf, -inf, -inf, -inf, -inf, -inf, -inf],\n",
       "        [-inf, -inf, -inf, -inf, -inf, -inf, -inf, -inf],\n",
       "        [-inf, -inf, -inf, -inf, -inf, -inf, -inf, -inf]]),\n",
       " array([[-inf, -inf, -inf, -inf, -inf, -inf, -inf, -inf],\n",
       "        [-inf, -inf, -inf, -inf, -inf, -inf, -inf, -inf],\n",
       "        [-inf, -inf, -inf, -inf, -inf, -inf, -inf, -inf],\n",
       "        [-inf, -inf, -inf, -inf, -inf, -inf, -inf, -inf],\n",
       "        [-inf, -inf, -inf, -inf, -inf, -inf, -inf, -inf],\n",
       "        [-inf, -inf, -inf, -inf, -inf, -inf, -inf, -inf],\n",
       "        [-inf, -inf, -inf, -inf, -inf, -inf, -inf, -inf],\n",
       "        [-inf, -inf, -inf, -inf, -inf, -inf, -inf, -inf],\n",
       "        [-inf, -inf, -inf, -inf, -inf, -inf, -inf, -inf],\n",
       "        [-inf, -inf, -inf, -inf, -inf, -inf, -inf, -inf],\n",
       "        [-inf, -inf, -inf, -inf, -inf, -inf, -inf, -inf]]),\n",
       " array([[-inf, -inf, -inf, -inf, -inf, -inf, -inf, -inf],\n",
       "        [-inf, -inf, -inf, -inf, -inf, -inf, -inf, -inf],\n",
       "        [-inf, -inf, -inf, -inf, -inf, -inf, -inf, -inf],\n",
       "        [-inf, -inf, -inf, -inf, -inf, -inf, -inf, -inf],\n",
       "        [-inf, -inf, -inf, -inf, -inf, -inf, -inf, -inf],\n",
       "        [-inf, -inf, -inf, -inf, -inf, -inf, -inf, -inf],\n",
       "        [-inf, -inf, -inf, -inf, -inf, -inf, -inf, -inf],\n",
       "        [-inf, -inf, -inf, -inf, -inf, -inf, -inf, -inf],\n",
       "        [-inf, -inf, -inf, -inf, -inf, -inf, -inf, -inf],\n",
       "        [-inf, -inf, -inf, -inf, -inf, -inf, -inf, -inf],\n",
       "        [-inf, -inf, -inf, -inf, -inf, -inf, -inf, -inf]]))"
      ]
     },
     "execution_count": 39,
     "metadata": {},
     "output_type": "execute_result"
    }
   ],
   "source": [
    "align, gapA, gapB"
   ]
  },
  {
   "cell_type": "code",
   "execution_count": 40,
   "id": "28458000",
   "metadata": {},
   "outputs": [
    {
     "data": {
      "text/plain": [
       "array([[  0., -inf, -inf, -inf, -inf, -inf, -inf, -inf],\n",
       "       [-inf, -inf, -inf, -inf, -inf, -inf, -inf, -inf],\n",
       "       [-inf, -inf, -inf, -inf, -inf, -inf, -inf, -inf],\n",
       "       [-inf, -inf, -inf, -inf, -inf, -inf, -inf, -inf],\n",
       "       [-inf, -inf, -inf, -inf, -inf, -inf, -inf, -inf],\n",
       "       [-inf, -inf, -inf, -inf, -inf, -inf, -inf, -inf],\n",
       "       [-inf, -inf, -inf, -inf, -inf, -inf, -inf, -inf],\n",
       "       [-inf, -inf, -inf, -inf, -inf, -inf, -inf, -inf],\n",
       "       [-inf, -inf, -inf, -inf, -inf, -inf, -inf, -inf],\n",
       "       [-inf, -inf, -inf, -inf, -inf, -inf, -inf, -inf],\n",
       "       [-inf, -inf, -inf, -inf, -inf, -inf, -inf, -inf]])"
      ]
     },
     "execution_count": 40,
     "metadata": {},
     "output_type": "execute_result"
    }
   ],
   "source": [
    "align[0,0]  = 0\n",
    "align"
   ]
  },
  {
   "cell_type": "code",
   "execution_count": 41,
   "id": "ea548bb4",
   "metadata": {
    "scrolled": true
   },
   "outputs": [
    {
     "data": {
      "text/plain": [
       "(array([[-10., -inf, -inf, -inf, -inf, -inf, -inf, -inf],\n",
       "        [-11., -inf, -inf, -inf, -inf, -inf, -inf, -inf],\n",
       "        [-12., -inf, -inf, -inf, -inf, -inf, -inf, -inf],\n",
       "        [-13., -inf, -inf, -inf, -inf, -inf, -inf, -inf],\n",
       "        [-14., -inf, -inf, -inf, -inf, -inf, -inf, -inf],\n",
       "        [-15., -inf, -inf, -inf, -inf, -inf, -inf, -inf],\n",
       "        [-16., -inf, -inf, -inf, -inf, -inf, -inf, -inf],\n",
       "        [-17., -inf, -inf, -inf, -inf, -inf, -inf, -inf],\n",
       "        [-18., -inf, -inf, -inf, -inf, -inf, -inf, -inf],\n",
       "        [-19., -inf, -inf, -inf, -inf, -inf, -inf, -inf],\n",
       "        [-20., -inf, -inf, -inf, -inf, -inf, -inf, -inf]]),\n",
       " array([[-10., -11., -12., -13., -14., -15., -16., -17.],\n",
       "        [-inf, -inf, -inf, -inf, -inf, -inf, -inf, -inf],\n",
       "        [-inf, -inf, -inf, -inf, -inf, -inf, -inf, -inf],\n",
       "        [-inf, -inf, -inf, -inf, -inf, -inf, -inf, -inf],\n",
       "        [-inf, -inf, -inf, -inf, -inf, -inf, -inf, -inf],\n",
       "        [-inf, -inf, -inf, -inf, -inf, -inf, -inf, -inf],\n",
       "        [-inf, -inf, -inf, -inf, -inf, -inf, -inf, -inf],\n",
       "        [-inf, -inf, -inf, -inf, -inf, -inf, -inf, -inf],\n",
       "        [-inf, -inf, -inf, -inf, -inf, -inf, -inf, -inf],\n",
       "        [-inf, -inf, -inf, -inf, -inf, -inf, -inf, -inf],\n",
       "        [-inf, -inf, -inf, -inf, -inf, -inf, -inf, -inf]]))"
      ]
     },
     "execution_count": 41,
     "metadata": {},
     "output_type": "execute_result"
    }
   ],
   "source": [
    "for i in range(0, len(seq3)+1): #rows\n",
    "    gapA[i][0] = open_pen  + (extend_pen*i)\n",
    "for j in range(0, len(seq4)+1): #columns\n",
    "    gapB[0][j] = open_pen  + (extend_pen*j)\n",
    "gapA, gapB"
   ]
  },
  {
   "cell_type": "code",
   "execution_count": 99,
   "id": "6d979270",
   "metadata": {},
   "outputs": [
    {
     "data": {
      "text/plain": [
       "5"
      ]
     },
     "execution_count": 99,
     "metadata": {},
     "output_type": "execute_result"
    }
   ],
   "source": [
    "for i in range(1, len(seq3)+1):\n",
    "    for j in range(1, len(seq4)+1):\n",
    "        match = nw.sub_dict[(seq3[i-1], seq4[j-1])]\n",
    "        \n",
    "        align_vals = [align[i - 1,j - 1],\n",
    "                      gapA[i - 1, j - 1],\n",
    "                      gapB[i - 1, j - 1]]\n",
    "        \n",
    "        gapA_vals = [open_pen + extend_pen + align[i-1,j],\n",
    "                      extend_pen + gapA[i - 1, j],\n",
    "                      extend_pend + open_pen + gapB[i - 1, j]]\n",
    "        \n",
    "        gapB_vals = [open_pen + extend_pen + align[i,j-1],\n",
    "                      extend_pen + gapA[i, j-1],\n",
    "                      extend_pend + open_pen + gapB[i, j-1]]\n",
    "        \n",
    "        align[i,j] = max(align_vals)\n",
    "        gapA[i,j] = max(gapA_vals)\n",
    "        gapB[i,j] = max(gapB_vals)\n",
    "        \n",
    "        \n",
    "        "
   ]
  },
  {
   "cell_type": "code",
   "execution_count": 44,
   "id": "f5f23da8",
   "metadata": {},
   "outputs": [
    {
     "name": "stdout",
     "output_type": "stream",
     "text": [
      "P\n",
      "P\n"
     ]
    },
    {
     "data": {
      "text/plain": [
       "7.0"
      ]
     },
     "execution_count": 44,
     "metadata": {},
     "output_type": "execute_result"
    }
   ],
   "source": [
    "print(seq3[i-1])\n",
    "print(seq4[j-1])\n",
    "match = nw.sub_dict[(seq3[i-1], seq4[j-1])]\n",
    "match"
   ]
  },
  {
   "cell_type": "code",
   "execution_count": 42,
   "id": "d4d91688",
   "metadata": {
    "scrolled": true
   },
   "outputs": [
    {
     "data": {
      "text/plain": [
       "array([[-20., -inf, -inf, -inf, -inf, -inf, -inf, -inf],\n",
       "       [-19., -inf, -inf, -inf, -inf, -inf, -inf, -inf],\n",
       "       [-18., -inf, -inf, -inf, -inf, -inf, -inf, -inf],\n",
       "       [-17., -inf, -inf, -inf, -inf, -inf, -inf, -inf],\n",
       "       [-16., -inf, -inf, -inf, -inf, -inf, -inf, -inf],\n",
       "       [-15., -inf, -inf, -inf, -inf, -inf, -inf, -inf],\n",
       "       [-14., -inf, -inf, -inf, -inf, -inf, -inf, -inf],\n",
       "       [-13., -inf, -inf, -inf, -inf, -inf, -inf, -inf],\n",
       "       [-12., -inf, -inf, -inf, -inf, -inf, -inf, -inf],\n",
       "       [-11., -inf, -inf, -inf, -inf, -inf, -inf, -inf],\n",
       "       [-10., -inf, -inf, -inf, -inf, -inf, -inf, -inf]])"
      ]
     },
     "execution_count": 42,
     "metadata": {},
     "output_type": "execute_result"
    }
   ],
   "source": [
    "gapA[::-1]"
   ]
  },
  {
   "cell_type": "code",
   "execution_count": null,
   "id": "0c3d93be",
   "metadata": {},
   "outputs": [],
   "source": []
  }
 ],
 "metadata": {
  "kernelspec": {
   "display_name": "Python 3 (ipykernel)",
   "language": "python",
   "name": "python3"
  },
  "language_info": {
   "codemirror_mode": {
    "name": "ipython",
    "version": 3
   },
   "file_extension": ".py",
   "mimetype": "text/x-python",
   "name": "python",
   "nbconvert_exporter": "python",
   "pygments_lexer": "ipython3",
   "version": "3.9.12"
  }
 },
 "nbformat": 4,
 "nbformat_minor": 5
}
