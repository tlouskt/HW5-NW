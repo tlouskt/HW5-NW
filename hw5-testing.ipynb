{
 "cells": [
  {
   "cell_type": "code",
   "execution_count": 1,
   "id": "e2e4415d",
   "metadata": {},
   "outputs": [],
   "source": [
    "from align import NeedlemanWunsch, read_fasta\n",
    "import numpy as np"
   ]
  },
  {
   "cell_type": "code",
   "execution_count": null,
   "id": "d75e36bf",
   "metadata": {},
   "outputs": [],
   "source": []
  },
  {
   "cell_type": "code",
   "execution_count": 2,
   "id": "1119ad63",
   "metadata": {},
   "outputs": [],
   "source": [
    "nw = NeedlemanWunsch(\"./substitution_matrices/BLOSUM62.mat\", gap_open = -10, gap_extend = -1)"
   ]
  },
  {
   "cell_type": "code",
   "execution_count": 3,
   "id": "18aa69d9",
   "metadata": {},
   "outputs": [
    {
     "data": {
      "text/plain": [
       "('MYQR', 'MQR')"
      ]
     },
     "execution_count": 3,
     "metadata": {},
     "output_type": "execute_result"
    }
   ],
   "source": [
    "seq1, _ = read_fasta(\"./data/test_seq1.fa\")\n",
    "seq2, _ = read_fasta(\"./data/test_seq2.fa\")\n",
    "seq1, seq2"
   ]
  },
  {
   "cell_type": "code",
   "execution_count": 9,
   "id": "cbd0b819",
   "metadata": {},
   "outputs": [
    {
     "name": "stdout",
     "output_type": "stream",
     "text": [
      "4\n",
      "3\n"
     ]
    }
   ],
   "source": [
    "print(len(seq1))\n",
    "print(len(seq2))"
   ]
  },
  {
   "cell_type": "code",
   "execution_count": 4,
   "id": "f3d01efb",
   "metadata": {},
   "outputs": [
    {
     "name": "stdout",
     "output_type": "stream",
     "text": [
      "4.0\n",
      "YQR\n",
      "RQRMRQR\n"
     ]
    }
   ],
   "source": [
    "score, seq1_align, seq2_align = nw.align(seq1, seq2)\n",
    "print(score)\n",
    "print(seq1_align)\n",
    "print(seq2_align)"
   ]
  },
  {
   "cell_type": "code",
   "execution_count": null,
   "id": "67a2456b",
   "metadata": {},
   "outputs": [],
   "source": []
  },
  {
   "cell_type": "code",
   "execution_count": 88,
   "id": "9b570924",
   "metadata": {},
   "outputs": [
    {
     "data": {
      "text/plain": [
       "array([[-inf, -inf, -inf, -inf],\n",
       "       [-inf, -inf, -inf, -inf],\n",
       "       [-inf, -inf, -inf, -inf],\n",
       "       [-inf, -inf, -inf, -inf],\n",
       "       [-inf, -inf, -inf, -inf]])"
      ]
     },
     "execution_count": 88,
     "metadata": {},
     "output_type": "execute_result"
    }
   ],
   "source": [
    "align_m = np.ones((len(seq1)+1, len(seq2)+1)) * -np.inf\n",
    "align_m"
   ]
  },
  {
   "cell_type": "code",
   "execution_count": 89,
   "id": "72062064",
   "metadata": {},
   "outputs": [
    {
     "data": {
      "text/plain": [
       "array([[  0., -inf, -inf, -inf],\n",
       "       [-inf, -inf, -inf, -inf],\n",
       "       [-inf, -inf, -inf, -inf],\n",
       "       [-inf, -inf, -inf, -inf],\n",
       "       [-inf, -inf, -inf, -inf]])"
      ]
     },
     "execution_count": 89,
     "metadata": {},
     "output_type": "execute_result"
    }
   ],
   "source": [
    "align_m[0,0] = 0\n",
    "align_m"
   ]
  },
  {
   "cell_type": "code",
   "execution_count": 90,
   "id": "0b640282",
   "metadata": {},
   "outputs": [],
   "source": [
    "gapA = align_m = np.ones((len(seq1)+1, len(seq2)+1)) * -np.inf\n",
    "gapB = align_m = np.ones((len(seq1)+1, len(seq2)+1)) * -np.inf"
   ]
  },
  {
   "cell_type": "code",
   "execution_count": 91,
   "id": "ec12485e",
   "metadata": {},
   "outputs": [
    {
     "data": {
      "text/plain": [
       "(array([[-inf, -inf, -inf, -inf],\n",
       "        [-inf, -inf, -inf, -inf],\n",
       "        [-inf, -inf, -inf, -inf],\n",
       "        [-inf, -inf, -inf, -inf],\n",
       "        [-inf, -inf, -inf, -inf]]),\n",
       " array([[-inf, -inf, -inf, -inf],\n",
       "        [-inf, -inf, -inf, -inf],\n",
       "        [-inf, -inf, -inf, -inf],\n",
       "        [-inf, -inf, -inf, -inf],\n",
       "        [-inf, -inf, -inf, -inf]]))"
      ]
     },
     "execution_count": 91,
     "metadata": {},
     "output_type": "execute_result"
    }
   ],
   "source": [
    "gapA, gapB"
   ]
  },
  {
   "cell_type": "code",
   "execution_count": 92,
   "id": "ea548bb4",
   "metadata": {},
   "outputs": [
    {
     "data": {
      "text/plain": [
       "(array([[ -1., -inf, -inf, -inf],\n",
       "        [ -2., -inf, -inf, -inf],\n",
       "        [ -3., -inf, -inf, -inf],\n",
       "        [ -4., -inf, -inf, -inf],\n",
       "        [ -5., -inf, -inf, -inf]]),\n",
       " array([[ -1.,  -2.,  -3.,  -4.],\n",
       "        [-inf, -inf, -inf, -inf],\n",
       "        [-inf, -inf, -inf, -inf],\n",
       "        [-inf, -inf, -inf, -inf],\n",
       "        [-inf, -inf, -inf, -inf]]))"
      ]
     },
     "execution_count": 92,
     "metadata": {},
     "output_type": "execute_result"
    }
   ],
   "source": [
    "for i in range(0, len(seq1)+1):\n",
    "    gapA[i][0] = gap_open_penalty  + (gap_extend_penalty*i)\n",
    "for j in range(0, len(seq2)+1):\n",
    "    gapB[0][j] = gap_open_penalty  + (gap_extend_penalty*j)\n",
    "gapA, gapB"
   ]
  },
  {
   "cell_type": "code",
   "execution_count": 99,
   "id": "6d979270",
   "metadata": {},
   "outputs": [
    {
     "data": {
      "text/plain": [
       "5"
      ]
     },
     "execution_count": 99,
     "metadata": {},
     "output_type": "execute_result"
    }
   ],
   "source": [
    "x = [3,4,5]\n",
    "max_x = max(x)\n",
    "max_x"
   ]
  },
  {
   "cell_type": "code",
   "execution_count": 100,
   "id": "f5f23da8",
   "metadata": {},
   "outputs": [
    {
     "data": {
      "text/plain": [
       "2"
      ]
     },
     "execution_count": 100,
     "metadata": {},
     "output_type": "execute_result"
    }
   ],
   "source": [
    "x.index(max_x)"
   ]
  },
  {
   "cell_type": "code",
   "execution_count": 102,
   "id": "d4d91688",
   "metadata": {},
   "outputs": [
    {
     "data": {
      "text/plain": [
       "array([[ -5., -inf, -inf, -inf],\n",
       "       [ -4., -inf, -inf, -inf],\n",
       "       [ -3., -inf, -inf, -inf],\n",
       "       [ -2., -inf, -inf, -inf],\n",
       "       [ -1., -inf, -inf, -inf]])"
      ]
     },
     "execution_count": 102,
     "metadata": {},
     "output_type": "execute_result"
    }
   ],
   "source": [
    "gapA[::-1]"
   ]
  },
  {
   "cell_type": "code",
   "execution_count": null,
   "id": "0c3d93be",
   "metadata": {},
   "outputs": [],
   "source": []
  }
 ],
 "metadata": {
  "kernelspec": {
   "display_name": "Python 3 (ipykernel)",
   "language": "python",
   "name": "python3"
  },
  "language_info": {
   "codemirror_mode": {
    "name": "ipython",
    "version": 3
   },
   "file_extension": ".py",
   "mimetype": "text/x-python",
   "name": "python",
   "nbconvert_exporter": "python",
   "pygments_lexer": "ipython3",
   "version": "3.9.12"
  }
 },
 "nbformat": 4,
 "nbformat_minor": 5
}
