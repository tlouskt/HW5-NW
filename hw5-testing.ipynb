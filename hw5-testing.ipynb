{
 "cells": [
  {
   "cell_type": "code",
   "execution_count": 1,
   "id": "e2e4415d",
   "metadata": {},
   "outputs": [],
   "source": [
    "from align import NeedlemanWunsch, read_fasta\n",
    "import numpy as np"
   ]
  },
  {
   "cell_type": "code",
   "execution_count": 2,
   "id": "1119ad63",
   "metadata": {},
   "outputs": [],
   "source": [
    "nw = NeedlemanWunsch(\"./substitution_matrices/BLOSUM62.mat\", gap_open = -10, gap_extend = -1)"
   ]
  },
  {
   "cell_type": "code",
   "execution_count": 3,
   "id": "18aa69d9",
   "metadata": {},
   "outputs": [
    {
     "data": {
      "text/plain": [
       "('MYQR', 'MQR')"
      ]
     },
     "execution_count": 3,
     "metadata": {},
     "output_type": "execute_result"
    }
   ],
   "source": [
    "seq1, _ = read_fasta(\"./data/test_seq1.fa\")\n",
    "seq2, _ = read_fasta(\"./data/test_seq2.fa\")\n",
    "seq1, seq2"
   ]
  },
  {
   "cell_type": "code",
   "execution_count": 9,
   "id": "cbd0b819",
   "metadata": {},
   "outputs": [
    {
     "name": "stdout",
     "output_type": "stream",
     "text": [
      "4\n",
      "3\n"
     ]
    }
   ],
   "source": [
    "print(len(seq1))\n",
    "print(len(seq2))"
   ]
  },
  {
   "cell_type": "code",
   "execution_count": 4,
   "id": "f3d01efb",
   "metadata": {},
   "outputs": [
    {
     "ename": "IndexError",
     "evalue": "string index out of range",
     "output_type": "error",
     "traceback": [
      "\u001b[0;31m---------------------------------------------------------------------------\u001b[0m",
      "\u001b[0;31mIndexError\u001b[0m                                Traceback (most recent call last)",
      "Input \u001b[0;32mIn [4]\u001b[0m, in \u001b[0;36m<cell line: 1>\u001b[0;34m()\u001b[0m\n\u001b[0;32m----> 1\u001b[0m score, seq1_align, seq2_align \u001b[38;5;241m=\u001b[39m \u001b[43mnw\u001b[49m\u001b[38;5;241;43m.\u001b[39;49m\u001b[43malign\u001b[49m\u001b[43m(\u001b[49m\u001b[43mseq1\u001b[49m\u001b[43m,\u001b[49m\u001b[43m \u001b[49m\u001b[43mseq2\u001b[49m\u001b[43m)\u001b[49m\n\u001b[1;32m      2\u001b[0m \u001b[38;5;28mprint\u001b[39m(score)\n\u001b[1;32m      3\u001b[0m \u001b[38;5;28mprint\u001b[39m(seq1_align)\n",
      "File \u001b[0;32m~/Documents/2023/bmi203/HW5-NW/align/align.py:181\u001b[0m, in \u001b[0;36mNeedlemanWunsch.align\u001b[0;34m(self, seqA, seqB)\u001b[0m\n\u001b[1;32m    178\u001b[0m         \u001b[38;5;28mself\u001b[39m\u001b[38;5;241m.\u001b[39m_back_A[i,j] \u001b[38;5;241m=\u001b[39m np\u001b[38;5;241m.\u001b[39margmax(gapA_vals)\n\u001b[1;32m    179\u001b[0m         \u001b[38;5;28mself\u001b[39m\u001b[38;5;241m.\u001b[39m_back_B[i,j] \u001b[38;5;241m=\u001b[39m np\u001b[38;5;241m.\u001b[39margmax(gapB_vals)\n\u001b[0;32m--> 181\u001b[0m \u001b[38;5;28;01mreturn\u001b[39;00m \u001b[38;5;28;43mself\u001b[39;49m\u001b[38;5;241;43m.\u001b[39;49m\u001b[43m_backtrace\u001b[49m\u001b[43m(\u001b[49m\u001b[43m)\u001b[49m\n",
      "File \u001b[0;32m~/Documents/2023/bmi203/HW5-NW/align/align.py:221\u001b[0m, in \u001b[0;36mNeedlemanWunsch._backtrace\u001b[0;34m(self)\u001b[0m\n\u001b[1;32m    218\u001b[0m     i \u001b[38;5;241m-\u001b[39m\u001b[38;5;241m=\u001b[39m \u001b[38;5;241m1\u001b[39m\n\u001b[1;32m    220\u001b[0m \u001b[38;5;28;01melse\u001b[39;00m: \u001b[38;5;66;03m#back_index == 2, best score came from gapB matrix, move left and gap in seqA\u001b[39;00m\n\u001b[0;32m--> 221\u001b[0m     \u001b[38;5;28mself\u001b[39m\u001b[38;5;241m.\u001b[39mseqB_align \u001b[38;5;241m=\u001b[39m \u001b[38;5;28;43mself\u001b[39;49m\u001b[38;5;241;43m.\u001b[39;49m\u001b[43m_seqB\u001b[49m\u001b[43m[\u001b[49m\u001b[43mj\u001b[49m\u001b[38;5;241;43m-\u001b[39;49m\u001b[38;5;241;43m1\u001b[39;49m\u001b[43m]\u001b[49m \u001b[38;5;241m+\u001b[39m \u001b[38;5;28mself\u001b[39m\u001b[38;5;241m.\u001b[39mseqB_align\n\u001b[1;32m    222\u001b[0m     \u001b[38;5;28mself\u001b[39m\u001b[38;5;241m.\u001b[39mseqA_align \u001b[38;5;241m=\u001b[39m \u001b[38;5;124m'\u001b[39m\u001b[38;5;124m-\u001b[39m\u001b[38;5;124m'\u001b[39m \u001b[38;5;241m+\u001b[39m \u001b[38;5;28mself\u001b[39m\u001b[38;5;241m.\u001b[39mseqA_align\n\u001b[1;32m    223\u001b[0m     back_index \u001b[38;5;241m=\u001b[39m \u001b[38;5;28mself\u001b[39m\u001b[38;5;241m.\u001b[39m_back_B[i,j]\n",
      "\u001b[0;31mIndexError\u001b[0m: string index out of range"
     ]
    }
   ],
   "source": [
    "score, seq1_align, seq2_align = nw.align(seq1, seq2)\n",
    "print(score)\n",
    "print(seq1_align)\n",
    "print(seq2_align)"
   ]
  },
  {
   "cell_type": "code",
   "execution_count": 5,
   "id": "67a2456b",
   "metadata": {},
   "outputs": [
    {
     "data": {
      "text/plain": [
       "array([[  0.,   0.,   0.,   0.],\n",
       "       [-inf,   5.,   0.,  -1.],\n",
       "       [-inf, -12.,   4.,  -2.],\n",
       "       [-inf, -12.,  -1.,   5.],\n",
       "       [-inf, -14.,  -6.,   4.]])"
      ]
     },
     "execution_count": 5,
     "metadata": {},
     "output_type": "execute_result"
    }
   ],
   "source": [
    "nw._align_matrix"
   ]
  },
  {
   "cell_type": "code",
   "execution_count": 88,
   "id": "9b570924",
   "metadata": {},
   "outputs": [
    {
     "data": {
      "text/plain": [
       "array([[-inf, -inf, -inf, -inf],\n",
       "       [-inf, -inf, -inf, -inf],\n",
       "       [-inf, -inf, -inf, -inf],\n",
       "       [-inf, -inf, -inf, -inf],\n",
       "       [-inf, -inf, -inf, -inf]])"
      ]
     },
     "execution_count": 88,
     "metadata": {},
     "output_type": "execute_result"
    }
   ],
   "source": [
    "align_m = np.ones((len(seq1)+1, len(seq2)+1)) * -np.inf\n",
    "align_m"
   ]
  },
  {
   "cell_type": "code",
   "execution_count": 89,
   "id": "72062064",
   "metadata": {},
   "outputs": [
    {
     "data": {
      "text/plain": [
       "array([[  0., -inf, -inf, -inf],\n",
       "       [-inf, -inf, -inf, -inf],\n",
       "       [-inf, -inf, -inf, -inf],\n",
       "       [-inf, -inf, -inf, -inf],\n",
       "       [-inf, -inf, -inf, -inf]])"
      ]
     },
     "execution_count": 89,
     "metadata": {},
     "output_type": "execute_result"
    }
   ],
   "source": [
    "align_m[0,0] = 0\n",
    "align_m"
   ]
  },
  {
   "cell_type": "code",
   "execution_count": 90,
   "id": "0b640282",
   "metadata": {},
   "outputs": [],
   "source": [
    "gapA = align_m = np.ones((len(seq1)+1, len(seq2)+1)) * -np.inf\n",
    "gapB = align_m = np.ones((len(seq1)+1, len(seq2)+1)) * -np.inf"
   ]
  },
  {
   "cell_type": "code",
   "execution_count": 91,
   "id": "ec12485e",
   "metadata": {},
   "outputs": [
    {
     "data": {
      "text/plain": [
       "(array([[-inf, -inf, -inf, -inf],\n",
       "        [-inf, -inf, -inf, -inf],\n",
       "        [-inf, -inf, -inf, -inf],\n",
       "        [-inf, -inf, -inf, -inf],\n",
       "        [-inf, -inf, -inf, -inf]]),\n",
       " array([[-inf, -inf, -inf, -inf],\n",
       "        [-inf, -inf, -inf, -inf],\n",
       "        [-inf, -inf, -inf, -inf],\n",
       "        [-inf, -inf, -inf, -inf],\n",
       "        [-inf, -inf, -inf, -inf]]))"
      ]
     },
     "execution_count": 91,
     "metadata": {},
     "output_type": "execute_result"
    }
   ],
   "source": [
    "gapA, gapB"
   ]
  },
  {
   "cell_type": "code",
   "execution_count": 92,
   "id": "ea548bb4",
   "metadata": {},
   "outputs": [
    {
     "data": {
      "text/plain": [
       "(array([[ -1., -inf, -inf, -inf],\n",
       "        [ -2., -inf, -inf, -inf],\n",
       "        [ -3., -inf, -inf, -inf],\n",
       "        [ -4., -inf, -inf, -inf],\n",
       "        [ -5., -inf, -inf, -inf]]),\n",
       " array([[ -1.,  -2.,  -3.,  -4.],\n",
       "        [-inf, -inf, -inf, -inf],\n",
       "        [-inf, -inf, -inf, -inf],\n",
       "        [-inf, -inf, -inf, -inf],\n",
       "        [-inf, -inf, -inf, -inf]]))"
      ]
     },
     "execution_count": 92,
     "metadata": {},
     "output_type": "execute_result"
    }
   ],
   "source": [
    "for i in range(0, len(seq1)+1):\n",
    "    gapA[i][0] = gap_open_penalty  + (gap_extend_penalty*i)\n",
    "for j in range(0, len(seq2)+1):\n",
    "    gapB[0][j] = gap_open_penalty  + (gap_extend_penalty*j)\n",
    "gapA, gapB"
   ]
  },
  {
   "cell_type": "code",
   "execution_count": 99,
   "id": "6d979270",
   "metadata": {},
   "outputs": [
    {
     "data": {
      "text/plain": [
       "5"
      ]
     },
     "execution_count": 99,
     "metadata": {},
     "output_type": "execute_result"
    }
   ],
   "source": [
    "x = [3,4,5]\n",
    "max_x = max(x)\n",
    "max_x"
   ]
  },
  {
   "cell_type": "code",
   "execution_count": 100,
   "id": "f5f23da8",
   "metadata": {},
   "outputs": [
    {
     "data": {
      "text/plain": [
       "2"
      ]
     },
     "execution_count": 100,
     "metadata": {},
     "output_type": "execute_result"
    }
   ],
   "source": [
    "x.index(max_x)"
   ]
  },
  {
   "cell_type": "code",
   "execution_count": 102,
   "id": "d4d91688",
   "metadata": {},
   "outputs": [
    {
     "data": {
      "text/plain": [
       "array([[ -5., -inf, -inf, -inf],\n",
       "       [ -4., -inf, -inf, -inf],\n",
       "       [ -3., -inf, -inf, -inf],\n",
       "       [ -2., -inf, -inf, -inf],\n",
       "       [ -1., -inf, -inf, -inf]])"
      ]
     },
     "execution_count": 102,
     "metadata": {},
     "output_type": "execute_result"
    }
   ],
   "source": [
    "gapA[::-1]"
   ]
  },
  {
   "cell_type": "code",
   "execution_count": null,
   "id": "0c3d93be",
   "metadata": {},
   "outputs": [],
   "source": []
  }
 ],
 "metadata": {
  "kernelspec": {
   "display_name": "Python 3 (ipykernel)",
   "language": "python",
   "name": "python3"
  },
  "language_info": {
   "codemirror_mode": {
    "name": "ipython",
    "version": 3
   },
   "file_extension": ".py",
   "mimetype": "text/x-python",
   "name": "python",
   "nbconvert_exporter": "python",
   "pygments_lexer": "ipython3",
   "version": "3.9.12"
  }
 },
 "nbformat": 4,
 "nbformat_minor": 5
}
